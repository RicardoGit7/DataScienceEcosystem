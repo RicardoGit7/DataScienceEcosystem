{
 "cells": [
  {
   "cell_type": "markdown",
   "metadata": {},
   "source": [
    "<center>\n",
    "    <img src=\"https://cf-courses-data.s3.us.cloud-object-storage.appdomain.cloud/IBMDeveloperSkillsNetwork-DS0105EN-SkillsNetwork/labs/Module2/images/SN_web_lightmode.png\" width=\"300\" alt=\"cognitiveclass.ai logo\">\n",
    "</center>\n"
   ]
  },
  {
   "cell_type": "markdown",
   "metadata": {},
   "source": [
    "#### Add your code below following the instructions given in the course\n"
   ]
  },
  {
   "cell_type": "markdown",
   "metadata": {},
   "source": [
    "# Data Science Tools and Ecosystem"
   ]
  },
  {
   "cell_type": "markdown",
   "metadata": {},
   "source": [
    "**Objectives**:\n",
    "+ List popular languages for Data Science\n",
    "+ Describe commonly used libraries in data science\n",
    "+ Convert minutes into hours\n",
    "+ Create a table with data science tools\n",
    "+ Use Markdown for formatting in notebooks"
   ]
  },
  {
   "cell_type": "markdown",
   "metadata": {},
   "source": [
    "### In this notebook, Data Science Tools and Ecosystem are summarized."
   ]
  },
  {
   "cell_type": "markdown",
   "metadata": {},
   "source": [
    "#### Some of the popular languages that Data Scientists use are:"
   ]
  },
  {
   "cell_type": "markdown",
   "metadata": {},
   "source": [
    "1. **Python**: Widely regarded as the primary language for data science due to its simplicity, readability, and extensive ecosystem of libraries (e.g., NumPy, Pandas, TensorFlow, PyTorch).\n",
    "\n",
    "2. **R**: Specifically designed for statistical analysis and visualization, R is favored for its robust statistical capabilities and visualization packages like ggplot2.\n",
    "\n",
    "3. **SQL**: Although not a traditional programming language, SQL (Structured Query Language) is essential for querying and manipulating data stored in relational databases, which is often a crucial part of the data science workflow.\n",
    "\n",
    "4. **Julia**: Known for its high-performance capabilities, Julia is gaining popularity in scientific computing and data analysis, particularly for tasks that require intensive numerical computations.\n",
    "\n",
    "5. **Scala**: Scala is used in data science primarily because of its compatibility with Apache Spark, a powerful distributed computing system widely used for big data processing and machine learning tasks."
   ]
  },
  {
   "cell_type": "markdown",
   "metadata": {},
   "source": [
    "#### Some of the commonly used libraries used by Data Scientists include:"
   ]
  },
  {
   "cell_type": "markdown",
   "metadata": {},
   "source": [
    "1. **NumPy**: (Numerical Python) is a foundational library for numerical computations in Python. It provides support for large, multi-dimensional arrays and matrices, along with a vast collection of mathematical functions to operate on these arrays. It is widely used for scientific computing, data manipulation, and serving as the underlying data structure for many other data science libraries, such as Pandas and SciPy.\n",
    "2. **TensorFlow**: an open-source library developed by Google for machine learning and artificial intelligence. It provides a flexible platform for building and deploying machine learning models, especially deep learning models.TensorFlow is commonly used for tasks such as image and speech recognition, natural language processing, and more, with support for training and inference on both CPUs and GPUs.\n",
    "3. **Scikit-learn**: is a comprehensive machine learning library in Python that provides simple and efficient tools for data mining and data analysis. It is built on NumPy, SciPy, and matplotlib. It includes a wide array of algorithms for classification, regression, clustering, and dimensionality reduction, as well as utilities for model selection, evaluation, and preprocessing of data.\n",
    "4. **ggplot2**: is a data visualization package for the R programming language. It is based on the Grammar of Graphics, which provides a coherent system for describing and building graphs. It is used for creating complex and multi-layered graphics with ease, making it a popular choice for data visualization in R, allowing users to create elegant and informative visualizations. \n",
    "5. **dplyr**: is a grammar of data manipulation, providing a consistent set of verbs that help you solve the most common data manipulation challenges in R. It is part of the tidyverse, a collection of R packages designed for data science. It is used for tasks such as data cleaning, filtering, selecting columns, reordering rows, and summarizing data, making data manipulation faster and more intuitive.\n",
    "6. **caret**: (Classification and Regression Training) is an R package that streamlines the process of building predictive models. It provides a unified interface for a wide range of machine learning algorithms. It is used for model training and evaluation, offering functionalities such as data splitting, pre-processing, feature selection, and tuning of hyperparameters, making it easier to develop robust predictive models."
   ]
  },
  {
   "cell_type": "markdown",
   "metadata": {},
   "source": [
    "| Data Science Tools |\n",
    "| ------ |\n",
    "| Jupyter Notebook |\n",
    "| RStudio |\n",
    "| Apache Zeppelin |"
   ]
  },
  {
   "cell_type": "markdown",
   "metadata": {},
   "source": [
    "### Below are a few examples of evaluating arithmetic expressions in Python"
   ]
  },
  {
   "cell_type": "code",
   "execution_count": 1,
   "metadata": {
    "tags": []
   },
   "outputs": [
    {
     "data": {
      "text/plain": [
       "17"
      ]
     },
     "execution_count": 1,
     "metadata": {},
     "output_type": "execute_result"
    }
   ],
   "source": [
    "# This a simple arithmetic expression to mutiply then add integers\n",
    "(3*4)+5"
   ]
  },
  {
   "cell_type": "code",
   "execution_count": 5,
   "metadata": {
    "tags": []
   },
   "outputs": [
    {
     "name": "stdout",
     "output_type": "stream",
     "text": [
      "3.3333333333333335\n"
     ]
    }
   ],
   "source": [
    "# This will convert 200 minutes to hours by diving by 60\n",
    "hours = 200 / 60\n",
    "print (hours)"
   ]
  },
  {
   "cell_type": "markdown",
   "metadata": {},
   "source": [
    "## Author\n",
    "Ricardo Filipe"
   ]
  },
  {
   "cell_type": "code",
   "execution_count": null,
   "metadata": {},
   "outputs": [],
   "source": []
  }
 ],
 "metadata": {
  "kernelspec": {
   "display_name": "Python",
   "language": "python",
   "name": "conda-env-python-py"
  },
  "language_info": {
   "codemirror_mode": {
    "name": "ipython",
    "version": 3
   },
   "file_extension": ".py",
   "mimetype": "text/x-python",
   "name": "python",
   "nbconvert_exporter": "python",
   "pygments_lexer": "ipython3",
   "version": "3.7.12"
  }
 },
 "nbformat": 4,
 "nbformat_minor": 4
}
